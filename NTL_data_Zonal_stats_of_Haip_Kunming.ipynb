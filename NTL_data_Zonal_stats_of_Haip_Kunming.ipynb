{
 "cells": [
  {
   "cell_type": "code",
   "execution_count": 6,
   "metadata": {},
   "outputs": [],
   "source": [
    "import geemap"
   ]
  },
  {
   "cell_type": "code",
   "execution_count": 7,
   "metadata": {},
   "outputs": [
    {
     "data": {
      "application/vnd.jupyter.widget-view+json": {
       "model_id": "4d91cc9d4d1e4af6a37c133949969f02",
       "version_major": 2,
       "version_minor": 0
      },
      "text/plain": [
       "Map(center=[40, -100], controls=(WidgetControl(options=['position'], widget=HBox(children=(Button(icon='globe'…"
      ]
     },
     "metadata": {},
     "output_type": "display_data"
    }
   ],
   "source": [
    "m = geemap.Map()\n",
    "m"
   ]
  },
  {
   "cell_type": "code",
   "execution_count": 8,
   "metadata": {},
   "outputs": [],
   "source": [
    "import ee\n",
    "import os"
   ]
  },
  {
   "cell_type": "code",
   "execution_count": 4,
   "metadata": {},
   "outputs": [],
   "source": [
    "adm01 = ee.FeatureCollection(\"users/ssapkota913/ch_vt_adm01\")\n",
    "m.addLayer(adm01,{},'Adminlevel1')\n",
    "m.setCenter(106.3937,25.5220, 6);\n",
    "\n",
    "adm02 = ee.FeatureCollection(\"users/ssapkota913/ch_vt_adm02\")\n",
    "m.addLayer(adm02,{},'Adminlevel2')\n",
    "m.setCenter(106.3937,25.5220, 6);\n",
    "\n",
    "adm03 = ee.FeatureCollection(\"users/ssapkota913/ch_vt_adm03\")\n",
    "m.addLayer(adm03,{},'Adminlevel3')\n",
    "m.setCenter(106.3937,25.5220, 6);"
   ]
  },
  {
   "cell_type": "code",
   "execution_count": 9,
   "metadata": {},
   "outputs": [],
   "source": [
    "dataset = ee.ImageCollection('NOAA/VIIRS/DNB/MONTHLY_V1/VCMCFG').filter(ee.Filter.date('2012-07-1','2012-07-31')).mean()\n",
    "nighttime = dataset.select('avg_rad')\n",
    "nighttimeVis = {min: 0.0, max: 60.0}\n",
    "m.setCenter(106.3937,25.5220, 6);\n",
    "m.addLayer(nighttime, nighttimeVis, 'Nighttime');"
   ]
  },
  {
   "cell_type": "code",
   "execution_count": 6,
   "metadata": {
    "scrolled": true
   },
   "outputs": [
    {
     "name": "stdout",
     "output_type": "stream",
     "text": [
      "Computing statistics ...\n",
      "Generating URL ...\n",
      "Downloading data from https://earthengine.googleapis.com/v1alpha/projects/earthengine-legacy/tables/09a50bc053bec4513e379b1a6330d1ab-63bd101f907576f42ff68abe41f7fae3:getFeatures\n",
      "Please wait ...\n",
      "Data downloaded to D:\\Job\\NIght_time_light\\VIIRS Nighttime DayNight Band Composites Version 1\\2018\\12\\NTLstats2012_adm01_mean.shp\n"
     ]
    }
   ],
   "source": [
    "out_dir = os.path.join(os.path.expanduser('~'), 'D:/Job/NIght_time_light/VIIRS Nighttime DayNight Band Composites Version 1/2018/12')\n",
    "out_NTL_stats = os.path.join(out_dir, 'NTLstats2012_adm01_mean.shp')  \n",
    "\n",
    "# Allowed output formats: csv, shp, json, kml, kmz\n",
    "# Allowed statistics type: MEAN, MAXIMUM, MINIMUM, MEDIAN, STD, MIN_MAX, VARIANCE, SUM\n",
    "geemap.zonal_statistics(nighttime,adm01, out_NTL_stats, statistics_type='MEAN', scale=500)"
   ]
  },
  {
   "cell_type": "code",
   "execution_count": 8,
   "metadata": {},
   "outputs": [
    {
     "name": "stdout",
     "output_type": "stream",
     "text": [
      "Computing statistics ...\n",
      "Generating URL ...\n",
      "Downloading data from https://earthengine.googleapis.com/v1alpha/projects/earthengine-legacy/tables/b44f101cb7465bfc6d6c54988e367bbd-5a4009b6569a8616a6dbb7c38367f290:getFeatures\n",
      "Please wait ...\n",
      "Data downloaded to D:\\Job\\NIght_time_light\\VIIRS Nighttime DayNight Band Composites Version 1\\2012\\07\\NTLstats2012_adm01_median.shp\n"
     ]
    }
   ],
   "source": [
    "out_dir = os.path.join(os.path.expanduser('~'), 'D:/Job/NIght_time_light/VIIRS Nighttime DayNight Band Composites Version 1/2012/07')\n",
    "out_NTL_stats = os.path.join(out_dir, 'NTLstats2012_adm01_median.shp')  \n",
    "\n",
    "# Allowed output formats: csv, shp, json, kml, kmz\n",
    "# Allowed statistics type: MEAN, MAXIMUM, MINIMUM, MEDIAN, STD, MIN_MAX, VARIANCE, SUM\n",
    "geemap.zonal_statistics(nighttime,adm01, out_NTL_stats, statistics_type='MEDIAN', scale=500)"
   ]
  },
  {
   "cell_type": "code",
   "execution_count": 8,
   "metadata": {},
   "outputs": [
    {
     "name": "stdout",
     "output_type": "stream",
     "text": [
      "Computing statistics ...\n",
      "Generating URL ...\n",
      "Downloading data from https://earthengine.googleapis.com/v1alpha/projects/earthengine-legacy/tables/69581a01d9f63e04858901b9acbe98bb-3cfb31f6a52db1c83c187e999aae78b0:getFeatures\n",
      "Please wait ...\n",
      "Data downloaded to D:\\Job\\NIght_time_light\\VIIRS Nighttime DayNight Band Composites Version 1\\2018\\12\\NTL_stats_adm02_mean.shp\n"
     ]
    }
   ],
   "source": [
    "out_dir = os.path.join(os.path.expanduser('~'), 'D:/Job/NIght_time_light/VIIRS Nighttime DayNight Band Composites Version 1/2018/12')\n",
    "out_NTL_stats = os.path.join(out_dir, 'NTL_stats_adm02_mean.shp')  \n",
    "\n",
    "# Allowed output formats: csv, shp, json, kml, kmz\n",
    "# Allowed statistics type: MEAN, MAXIMUM, MINIMUM, MEDIAN, STD, MIN_MAX, VARIANCE, SUM\n",
    "geemap.zonal_statistics(nighttime,adm02, out_NTL_stats, statistics_type='MEAN', scale=500)"
   ]
  },
  {
   "cell_type": "code",
   "execution_count": 9,
   "metadata": {},
   "outputs": [
    {
     "name": "stdout",
     "output_type": "stream",
     "text": [
      "Computing statistics ...\n",
      "Generating URL ...\n",
      "Downloading data from https://earthengine.googleapis.com/v1alpha/projects/earthengine-legacy/tables/43e707ac7ea1da81691ad104892d5262-f383d7fd733a3a7ecb3426e3aaf9cd02:getFeatures\n",
      "Please wait ...\n",
      "Data downloaded to D:\\Job\\NIght_time_light\\VIIRS Nighttime DayNight Band Composites Version 1\\2018\\12\\NTL_stats_adm02_median.shp\n"
     ]
    }
   ],
   "source": [
    "out_dir = os.path.join(os.path.expanduser('~'), 'D:/Job/NIght_time_light/VIIRS Nighttime DayNight Band Composites Version 1/2018/12')\n",
    "out_NTL_stats = os.path.join(out_dir, 'NTL_stats_adm02_median.shp')  \n",
    "\n",
    "# Allowed output formats: csv, shp, json, kml, kmz\n",
    "# Allowed statistics type: MEAN, MAXIMUM, MINIMUM, MEDIAN, STD, MIN_MAX, VARIANCE, SUM\n",
    "geemap.zonal_statistics(nighttime,adm02, out_NTL_stats, statistics_type='MEDIAN', scale=500)"
   ]
  },
  {
   "cell_type": "code",
   "execution_count": 11,
   "metadata": {},
   "outputs": [
    {
     "name": "stdout",
     "output_type": "stream",
     "text": [
      "Computing statistics ...\n",
      "Generating URL ...\n",
      "Downloading data from https://earthengine.googleapis.com/v1alpha/projects/earthengine-legacy/tables/68631bd694b7071d8a628ed66c56107b-2767f99c4a3474fbcb581bbf38190666:getFeatures\n",
      "Please wait ...\n",
      "Data downloaded to D:\\Job\\NIght_time_light\\VIIRS Nighttime DayNight Band Composites Version 1\\2018\\12\\NTL_stats_adm03_mean.csv\n"
     ]
    }
   ],
   "source": [
    "out_dir = os.path.join(os.path.expanduser('~'), 'D:/Job/NIght_time_light/VIIRS Nighttime DayNight Band Composites Version 1/2018/12')\n",
    "out_NTL_stats = os.path.join(out_dir, 'NTL_stats_adm03_mean.csv')  \n",
    "\n",
    "# Allowed output formats: csv, shp, json, kml, kmz\n",
    "# Allowed statistics type: MEAN, MAXIMUM, MINIMUM, MEDIAN, STD, MIN_MAX, VARIANCE, SUM\n",
    "geemap.zonal_statistics(nighttime,adm03, out_NTL_stats, statistics_type='MEAN', scale=500)"
   ]
  },
  {
   "cell_type": "code",
   "execution_count": 6,
   "metadata": {},
   "outputs": [
    {
     "name": "stdout",
     "output_type": "stream",
     "text": [
      "Computing statistics ...\n",
      "Generating URL ...\n",
      "Downloading data from https://earthengine.googleapis.com/v1alpha/projects/earthengine-legacy/tables/783f8a9e84a7ea4153be3558064e8c89-c2f30041b465edb74e64b86871df0dab:getFeatures\n",
      "Please wait ...\n",
      "Data downloaded to D:\\Job\\NIght_time_light\\VIIRS Nighttime DayNight Band Composites Version 1\\2012\\06\\NTL_stats_adm03_median.csv\n"
     ]
    }
   ],
   "source": [
    "out_dir = os.path.join(os.path.expanduser('~'), 'D:/Job/NIght_time_light/VIIRS Nighttime DayNight Band Composites Version 1/2012/06')\n",
    "\n",
    "out_NTL_stats = os.path.join(out_dir, 'NTL_stats_adm03_median.csv')  \n",
    "\n",
    "# Allowed output formats: csv, shp, json, kml, kmz\n",
    "# Allowed statistics type: MEAN, MAXIMUM, MINIMUM, MEDIAN, STD, MIN_MAX, VARIANCE, SUM\n",
    "geemap.zonal_statistics(nighttime,adm03, out_NTL_stats, statistics_type='MEDIAN', scale=500)"
   ]
  },
  {
   "cell_type": "code",
   "execution_count": null,
   "metadata": {},
   "outputs": [],
   "source": []
  }
 ],
 "metadata": {
  "kernelspec": {
   "display_name": "Python 3",
   "language": "python",
   "name": "python3"
  },
  "language_info": {
   "codemirror_mode": {
    "name": "ipython",
    "version": 3
   },
   "file_extension": ".py",
   "mimetype": "text/x-python",
   "name": "python",
   "nbconvert_exporter": "python",
   "pygments_lexer": "ipython3",
   "version": "3.8.5"
  }
 },
 "nbformat": 4,
 "nbformat_minor": 4
}
