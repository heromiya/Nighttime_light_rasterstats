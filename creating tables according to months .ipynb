{
 "cells": [
  {
   "cell_type": "code",
   "execution_count": 135,
   "metadata": {},
   "outputs": [],
   "source": [
    "import pandas as pd "
   ]
  },
  {
   "cell_type": "code",
   "execution_count": 136,
   "metadata": {},
   "outputs": [],
   "source": [
    "columnnames =['Administrative Unit','GID',\n",
    "              'Mean-2012April','Mean-2012May','Mean-2012June','Mean-2012July','Mean-2012Aug','Mean-2012Sept','Mean-2012Oct',\n",
    "              'Mean-2012Nov','Mean-2012Dec',\n",
    "              'Mean-2013Jan','Mean-2013Feb','Mean-2013March','Mean-2013April','Mean-2013May','Mean-2013June','Mean-2013July',\n",
    "            'Mean-2013Aug','Mean-2013Sept','Mean-2013Oct','Mean-2013Nov','Mean-2013Dec',\n",
    "              'Mean-2014Jan','Mean-2014Feb','Mean-2014March','Mean-2014April','Mean-2014May','Mean-2014June','Mean-2014July',\n",
    "            'Mean-2014Aug','Mean-2014Sept','Mean-2014Oct','Mean-2014Nov','Mean-2014Dec',\n",
    "              'Mean-2015Jan','Mean-2015Feb','Mean-2015March','Mean-2015April','Mean-2015May','Mean-2015June','Mean-2015July',\n",
    "            'Mean-2015Aug','Mean-2015Sept','Mean-2015Oct','Mean-2015Nov','Mean-2015Dec',\n",
    "              'Mean-2016Jan','Mean-2016Feb','Mean-2016March','Mean-2016April','Mean-2016May','Mean-2016June','Mean-2016July',\n",
    "            'Mean-2016Aug','Mean-2016Sept','Mean-2016Oct','Mean-2016Nov','Mean-2016Dec',\n",
    "              'Mean-2017Jan','Mean-2017Feb','Mean-2017March','Mean-2017April','Mean-2017May','Mean-2017June','Mean-2017July',\n",
    "            'Mean-2017Aug','Mean-2017Sept','Mean-2017Oct','Mean-2017Nov','Mean-2017Dec',\n",
    "              'Mean-2018Jan','Mean-2018Feb','Mean-2018March','Mean-2018April','Mean-2018May','Mean-2018June','Mean-2018July',\n",
    "            'Mean-2018Aug','Mean-2018Sept','Mean-2018Oct','Mean-2018Nov','Mean-2018Dec',\n",
    "              'Mean-2019Jan','Mean-2019Feb','Mean-2019March','Mean-2019April','Mean-2019May','Mean-2019June','Mean-2019July',\n",
    "            'Mean-2019Aug','Mean-2019Sept','Mean-2019Oct','Mean-2019Nov','Mean-2019Dec',\n",
    "            'Mean-2020Jan','Mean-2020Feb','Mean-2020March','Mean-2020April','Mean-2020May',\n",
    "            'Median-2012April','Median-2012May','Median-2012June','Median-2012July','Median-2012Aug','Median-2012Sept','Median-2012Oct',\n",
    "            'Median-2012Nov','Median-2012Dec',\n",
    "            'Median-2013Jan','Median-2013Feb','Median-2013March','Median-2013April','Median-2013May','Median-2013June','Median-2013July',\n",
    "            'Median-2013Aug','Median-2013Sept','Median-2013Oct','Median-2013Nov','Median-2013Dec',\n",
    "            'Median-2014Jan','Median-2014Feb','Median-2014March','Median-2014April','Median-2014May','Median-2014June','Median-2014July',\n",
    "            'Median-2014Aug','Median-2014Sept','Median-2014Oct','Median-2014Nov','Median-2014Dec',\n",
    "            'Median-2015Jan','Median-2015Feb','Median-2015March','Median-2015April','Median-2015May','Median-2015June','Median-2015July',\n",
    "            'Median-2015Aug','Median-2015Sept','Median-2015Oct','Median-2015Nov','Median-2015Dec',  \n",
    "            'Median-2016Jan','Median-2016Feb','Median-2016March','Median-2016April','Median-2016May','Median-2016June','Median-2016July',\n",
    "            'Median-2016Aug','Median-2016Sept','Median-2016Oct','Median-2016Nov','Median-2016Dec',\n",
    "            'Median-2017Jan','Median-2017Feb','Median-2017March','Median-2017April','Median-2017May','Median-2017June','Median-2017July',\n",
    "            'Median-2017Aug','Median-2017Sept','Median-2017Oct','Median-2017Nov','Median-2017Dec', \n",
    "            'Median-2018Jan','Median-2018Feb','Median-2018March','Median-2018April','Median-2018May','Median-2018June','Median-2018July',\n",
    "            'Median-2018Aug','Median-2018Sept','Median-2018Oct','Median-2018Nov','Median-2018Dec', \n",
    "            'Median-2019Jan','Median-2019Feb','Median-2019March','Median-2019April','Median-2019May','Median-2019June','Median-2019July',\n",
    "            'Median-2019Aug','Median-2019Sept','Median-2019Oct','Median-2019Nov','Median-2019Dec',\n",
    "            'Median-2020Jan','Median-2020Feb','Median-2020March','Median-2020April','Median-2020May'] "
   ]
  },
  {
   "cell_type": "code",
   "execution_count": 137,
   "metadata": {},
   "outputs": [],
   "source": [
    "df = pd.DataFrame(columns = columnnames)"
   ]
  },
  {
   "cell_type": "code",
   "execution_count": 138,
   "metadata": {},
   "outputs": [
    {
     "data": {
      "text/plain": [
       "198"
      ]
     },
     "execution_count": 138,
     "metadata": {},
     "output_type": "execute_result"
    }
   ],
   "source": [
    "len(df.columns)"
   ]
  },
  {
   "cell_type": "code",
   "execution_count": 139,
   "metadata": {},
   "outputs": [],
   "source": [
    "import geopandas as gpd \n",
    "adm01= gpd.read_file('D:/Job/NIght_time_light/VIIRS Nighttime DayNight Band Composites Version 1/2012/May/adm03.shp')"
   ]
  },
  {
   "cell_type": "code",
   "execution_count": 140,
   "metadata": {
    "scrolled": false
   },
   "outputs": [
    {
     "data": {
      "text/html": [
       "<div>\n",
       "<style scoped>\n",
       "    .dataframe tbody tr th:only-of-type {\n",
       "        vertical-align: middle;\n",
       "    }\n",
       "\n",
       "    .dataframe tbody tr th {\n",
       "        vertical-align: top;\n",
       "    }\n",
       "\n",
       "    .dataframe thead th {\n",
       "        text-align: right;\n",
       "    }\n",
       "</style>\n",
       "<table border=\"1\" class=\"dataframe\">\n",
       "  <thead>\n",
       "    <tr style=\"text-align: right;\">\n",
       "      <th></th>\n",
       "      <th>GID_0_x</th>\n",
       "      <th>NAME_0_x</th>\n",
       "      <th>GID_1_x</th>\n",
       "      <th>NAME_1_x</th>\n",
       "      <th>NL_NAME_1_</th>\n",
       "      <th>GID_2_x</th>\n",
       "      <th>NAME_2_x</th>\n",
       "      <th>NL_NAME_2_</th>\n",
       "      <th>GID_3</th>\n",
       "      <th>NAME_3_x</th>\n",
       "      <th>...</th>\n",
       "      <th>NAME_1</th>\n",
       "      <th>path</th>\n",
       "      <th>NL_NAME_3</th>\n",
       "      <th>GID_0</th>\n",
       "      <th>VARNAME_3</th>\n",
       "      <th>GID_1</th>\n",
       "      <th>system_i_1</th>\n",
       "      <th>GID_2</th>\n",
       "      <th>Date</th>\n",
       "      <th>geometry</th>\n",
       "    </tr>\n",
       "  </thead>\n",
       "  <tbody>\n",
       "    <tr>\n",
       "      <th>0</th>\n",
       "      <td>CHN</td>\n",
       "      <td>China</td>\n",
       "      <td>CHN.3_1</td>\n",
       "      <td>Chongqing</td>\n",
       "      <td>??|??</td>\n",
       "      <td>CHN.3.1_1</td>\n",
       "      <td>Chongqing</td>\n",
       "      <td>??|??</td>\n",
       "      <td>CHN.3.1.13_1</td>\n",
       "      <td>Jiangjin</td>\n",
       "      <td>...</td>\n",
       "      <td>Chongqing</td>\n",
       "      <td>D:/Job/NIght_time_light/adm/CHN/CHN_adm03.shp</td>\n",
       "      <td>None</td>\n",
       "      <td>CHN</td>\n",
       "      <td>None</td>\n",
       "      <td>CHN.3_1</td>\n",
       "      <td>00000000000000000000</td>\n",
       "      <td>CHN.3.1_1</td>\n",
       "      <td>2012May</td>\n",
       "      <td>MULTIPOLYGON (((105.83636 28.93850, 105.83901 ...</td>\n",
       "    </tr>\n",
       "  </tbody>\n",
       "</table>\n",
       "<p>1 rows × 61 columns</p>\n",
       "</div>"
      ],
      "text/plain": [
       "  GID_0_x NAME_0_x  GID_1_x   NAME_1_x NL_NAME_1_    GID_2_x   NAME_2_x  \\\n",
       "0     CHN    China  CHN.3_1  Chongqing      ??|??  CHN.3.1_1  Chongqing   \n",
       "\n",
       "  NL_NAME_2_         GID_3  NAME_3_x  ...     NAME_1  \\\n",
       "0      ??|??  CHN.3.1.13_1  Jiangjin  ...  Chongqing   \n",
       "\n",
       "                                            path NL_NAME_3 GID_0 VARNAME_3  \\\n",
       "0  D:/Job/NIght_time_light/adm/CHN/CHN_adm03.shp      None   CHN      None   \n",
       "\n",
       "     GID_1            system_i_1      GID_2     Date  \\\n",
       "0  CHN.3_1  00000000000000000000  CHN.3.1_1  2012May   \n",
       "\n",
       "                                            geometry  \n",
       "0  MULTIPOLYGON (((105.83636 28.93850, 105.83901 ...  \n",
       "\n",
       "[1 rows x 61 columns]"
      ]
     },
     "execution_count": 140,
     "metadata": {},
     "output_type": "execute_result"
    }
   ],
   "source": [
    "adm01.head(1)"
   ]
  },
  {
   "cell_type": "code",
   "execution_count": 141,
   "metadata": {},
   "outputs": [
    {
     "name": "stdout",
     "output_type": "stream",
     "text": [
      "0       CHN.3.1.13_1\n",
      "1       CHN.3.1.29_1\n",
      "2        CHN.7.1.1_1\n",
      "3        CHN.7.1.2_1\n",
      "4        CHN.7.1.3_1\n",
      "            ...     \n",
      "6921     VNM.4.8.4_1\n",
      "6922     VNM.4.8.5_1\n",
      "6923     VNM.4.8.6_1\n",
      "6924     VNM.4.8.7_1\n",
      "6925     VNM.4.8.8_1\n",
      "Name: GID_3, Length: 6926, dtype: object\n"
     ]
    }
   ],
   "source": [
    "print(adm01['GID_3'])"
   ]
  },
  {
   "cell_type": "code",
   "execution_count": 142,
   "metadata": {},
   "outputs": [],
   "source": [
    "df['Administrative Unit'] = adm01['NAME_3_x']\n",
    "df['GID'] = adm01['GID_3']"
   ]
  },
  {
   "cell_type": "code",
   "execution_count": 143,
   "metadata": {},
   "outputs": [
    {
     "data": {
      "text/html": [
       "<div>\n",
       "<style scoped>\n",
       "    .dataframe tbody tr th:only-of-type {\n",
       "        vertical-align: middle;\n",
       "    }\n",
       "\n",
       "    .dataframe tbody tr th {\n",
       "        vertical-align: top;\n",
       "    }\n",
       "\n",
       "    .dataframe thead th {\n",
       "        text-align: right;\n",
       "    }\n",
       "</style>\n",
       "<table border=\"1\" class=\"dataframe\">\n",
       "  <thead>\n",
       "    <tr style=\"text-align: right;\">\n",
       "      <th></th>\n",
       "      <th>Administrative Unit</th>\n",
       "      <th>GID</th>\n",
       "      <th>Mean-2012April</th>\n",
       "      <th>Mean-2012May</th>\n",
       "      <th>Mean-2012June</th>\n",
       "      <th>Mean-2012July</th>\n",
       "      <th>Mean-2012Aug</th>\n",
       "      <th>Mean-2012Sept</th>\n",
       "      <th>Mean-2012Oct</th>\n",
       "      <th>Mean-2012Nov</th>\n",
       "      <th>...</th>\n",
       "      <th>Median-2019Aug</th>\n",
       "      <th>Median-2019Sept</th>\n",
       "      <th>Median-2019Oct</th>\n",
       "      <th>Median-2019Nov</th>\n",
       "      <th>Median-2019Dec</th>\n",
       "      <th>Median-2020Jan</th>\n",
       "      <th>Median-2020Feb</th>\n",
       "      <th>Median-2020March</th>\n",
       "      <th>Median-2020April</th>\n",
       "      <th>Median-2020May</th>\n",
       "    </tr>\n",
       "  </thead>\n",
       "  <tbody>\n",
       "    <tr>\n",
       "      <th>0</th>\n",
       "      <td>Jiangjin</td>\n",
       "      <td>CHN.3.1.13_1</td>\n",
       "      <td>NaN</td>\n",
       "      <td>NaN</td>\n",
       "      <td>NaN</td>\n",
       "      <td>NaN</td>\n",
       "      <td>NaN</td>\n",
       "      <td>NaN</td>\n",
       "      <td>NaN</td>\n",
       "      <td>NaN</td>\n",
       "      <td>...</td>\n",
       "      <td>NaN</td>\n",
       "      <td>NaN</td>\n",
       "      <td>NaN</td>\n",
       "      <td>NaN</td>\n",
       "      <td>NaN</td>\n",
       "      <td>NaN</td>\n",
       "      <td>NaN</td>\n",
       "      <td>NaN</td>\n",
       "      <td>NaN</td>\n",
       "      <td>NaN</td>\n",
       "    </tr>\n",
       "  </tbody>\n",
       "</table>\n",
       "<p>1 rows × 198 columns</p>\n",
       "</div>"
      ],
      "text/plain": [
       "  Administrative Unit           GID Mean-2012April Mean-2012May Mean-2012June  \\\n",
       "0            Jiangjin  CHN.3.1.13_1            NaN          NaN           NaN   \n",
       "\n",
       "  Mean-2012July Mean-2012Aug Mean-2012Sept Mean-2012Oct Mean-2012Nov  ...  \\\n",
       "0           NaN          NaN           NaN          NaN          NaN  ...   \n",
       "\n",
       "  Median-2019Aug Median-2019Sept Median-2019Oct Median-2019Nov Median-2019Dec  \\\n",
       "0            NaN             NaN            NaN            NaN            NaN   \n",
       "\n",
       "  Median-2020Jan Median-2020Feb Median-2020March Median-2020April  \\\n",
       "0            NaN            NaN              NaN              NaN   \n",
       "\n",
       "  Median-2020May  \n",
       "0            NaN  \n",
       "\n",
       "[1 rows x 198 columns]"
      ]
     },
     "execution_count": 143,
     "metadata": {},
     "output_type": "execute_result"
    }
   ],
   "source": [
    "df.head(1)"
   ]
  },
  {
   "cell_type": "code",
   "execution_count": 147,
   "metadata": {},
   "outputs": [],
   "source": [
    "year = [2020] #2012,2013,2014,2015,2016,2017,2018,2019,2020\n",
    "months = ['Jan','Feb','March','April','May'] #'Jan','Feb','March','April','May','June','July','Aug','Sept','Oct','Nov','Dec'\n",
    "for y in year:\n",
    "    for x in months:\n",
    "        adm01= gpd.read_file('D:/Job/NIght_time_light/VIIRS Nighttime DayNight Band Composites Version 1/{}/{}/adm03.shp'.format(y,x))\n",
    "        df['Mean-{}{}'.format(y,x)] = adm01['mean']\n",
    "        df['Median-{}{}'.format(y,x)] = adm01['median']"
   ]
  },
  {
   "cell_type": "code",
   "execution_count": 148,
   "metadata": {
    "scrolled": true
   },
   "outputs": [
    {
     "data": {
      "text/html": [
       "<div>\n",
       "<style scoped>\n",
       "    .dataframe tbody tr th:only-of-type {\n",
       "        vertical-align: middle;\n",
       "    }\n",
       "\n",
       "    .dataframe tbody tr th {\n",
       "        vertical-align: top;\n",
       "    }\n",
       "\n",
       "    .dataframe thead th {\n",
       "        text-align: right;\n",
       "    }\n",
       "</style>\n",
       "<table border=\"1\" class=\"dataframe\">\n",
       "  <thead>\n",
       "    <tr style=\"text-align: right;\">\n",
       "      <th></th>\n",
       "      <th>Administrative Unit</th>\n",
       "      <th>GID</th>\n",
       "      <th>Mean-2012April</th>\n",
       "      <th>Mean-2012May</th>\n",
       "      <th>Mean-2012June</th>\n",
       "      <th>Mean-2012July</th>\n",
       "      <th>Mean-2012Aug</th>\n",
       "      <th>Mean-2012Sept</th>\n",
       "      <th>Mean-2012Oct</th>\n",
       "      <th>Mean-2012Nov</th>\n",
       "      <th>...</th>\n",
       "      <th>Median-2019Aug</th>\n",
       "      <th>Median-2019Sept</th>\n",
       "      <th>Median-2019Oct</th>\n",
       "      <th>Median-2019Nov</th>\n",
       "      <th>Median-2019Dec</th>\n",
       "      <th>Median-2020Jan</th>\n",
       "      <th>Median-2020Feb</th>\n",
       "      <th>Median-2020March</th>\n",
       "      <th>Median-2020April</th>\n",
       "      <th>Median-2020May</th>\n",
       "    </tr>\n",
       "  </thead>\n",
       "  <tbody>\n",
       "    <tr>\n",
       "      <th>0</th>\n",
       "      <td>Jiangjin</td>\n",
       "      <td>CHN.3.1.13_1</td>\n",
       "      <td>0.138896</td>\n",
       "      <td>0.143715</td>\n",
       "      <td>0.082906</td>\n",
       "      <td>0.061122</td>\n",
       "      <td>0.151509</td>\n",
       "      <td>0.229455</td>\n",
       "      <td>0.149959</td>\n",
       "      <td>0.111371</td>\n",
       "      <td>...</td>\n",
       "      <td>0.262429</td>\n",
       "      <td>0.214725</td>\n",
       "      <td>0.403275</td>\n",
       "      <td>0.302377</td>\n",
       "      <td>0.183295</td>\n",
       "      <td>0.095369</td>\n",
       "      <td>0.299588</td>\n",
       "      <td>0.199444</td>\n",
       "      <td>0.403178</td>\n",
       "      <td>0.343695</td>\n",
       "    </tr>\n",
       "  </tbody>\n",
       "</table>\n",
       "<p>1 rows × 198 columns</p>\n",
       "</div>"
      ],
      "text/plain": [
       "  Administrative Unit           GID  Mean-2012April  Mean-2012May  \\\n",
       "0            Jiangjin  CHN.3.1.13_1        0.138896      0.143715   \n",
       "\n",
       "   Mean-2012June  Mean-2012July  Mean-2012Aug  Mean-2012Sept  Mean-2012Oct  \\\n",
       "0       0.082906       0.061122      0.151509       0.229455      0.149959   \n",
       "\n",
       "   Mean-2012Nov  ...  Median-2019Aug  Median-2019Sept  Median-2019Oct  \\\n",
       "0      0.111371  ...        0.262429         0.214725        0.403275   \n",
       "\n",
       "   Median-2019Nov  Median-2019Dec  Median-2020Jan  Median-2020Feb  \\\n",
       "0        0.302377        0.183295        0.095369        0.299588   \n",
       "\n",
       "   Median-2020March  Median-2020April  Median-2020May  \n",
       "0          0.199444          0.403178        0.343695  \n",
       "\n",
       "[1 rows x 198 columns]"
      ]
     },
     "execution_count": 148,
     "metadata": {},
     "output_type": "execute_result"
    }
   ],
   "source": [
    "df.head(1)"
   ]
  },
  {
   "cell_type": "code",
   "execution_count": 149,
   "metadata": {},
   "outputs": [],
   "source": [
    "# writing dataframe to csv file \n",
    "df.to_csv('D:/Job/NIght_time_light/Final_NTL_tables/adm03.csv')"
   ]
  },
  {
   "cell_type": "code",
   "execution_count": null,
   "metadata": {},
   "outputs": [],
   "source": [
    "df['Mean-2012May'] = adm01['mean']\n",
    "df['Median-2012May'] = adm01['median']"
   ]
  },
  {
   "cell_type": "code",
   "execution_count": 14,
   "metadata": {},
   "outputs": [],
   "source": [
    "# df['Administrative Unit'] = adm01['VARNAME_1_']\n",
    "# df['GID'] = adm01['GID_1_y']"
   ]
  },
  {
   "cell_type": "code",
   "execution_count": 21,
   "metadata": {},
   "outputs": [
    {
     "data": {
      "text/html": [
       "<div>\n",
       "<style scoped>\n",
       "    .dataframe tbody tr th:only-of-type {\n",
       "        vertical-align: middle;\n",
       "    }\n",
       "\n",
       "    .dataframe tbody tr th {\n",
       "        vertical-align: top;\n",
       "    }\n",
       "\n",
       "    .dataframe thead th {\n",
       "        text-align: right;\n",
       "    }\n",
       "</style>\n",
       "<table border=\"1\" class=\"dataframe\">\n",
       "  <thead>\n",
       "    <tr style=\"text-align: right;\">\n",
       "      <th></th>\n",
       "      <th>Administrative Unit</th>\n",
       "      <th>GID</th>\n",
       "      <th>Mean-2012Apr</th>\n",
       "      <th>Mean-2012May</th>\n",
       "      <th>Mean-2012June</th>\n",
       "      <th>Mean-2012Jul</th>\n",
       "      <th>Mean-2012Aug</th>\n",
       "      <th>Mean-2012Sept</th>\n",
       "      <th>Mean-2012Oct</th>\n",
       "      <th>Mean-2012Nov</th>\n",
       "      <th>...</th>\n",
       "      <th>Median-2019Sept</th>\n",
       "      <th>Median-2019Oct</th>\n",
       "      <th>Median-2019Nov</th>\n",
       "      <th>Median-2019Dec</th>\n",
       "      <th>Median-2020Jan</th>\n",
       "      <th>Median-2020Feb</th>\n",
       "      <th>Median-2020Mar</th>\n",
       "      <th>Median-2020Apr</th>\n",
       "      <th>Median-2020May</th>\n",
       "      <th>Median-2012Apr</th>\n",
       "    </tr>\n",
       "  </thead>\n",
       "  <tbody>\n",
       "    <tr>\n",
       "      <th>0</th>\n",
       "      <td>Hai Phong</td>\n",
       "      <td>VNM.23_1</td>\n",
       "      <td>1.720032</td>\n",
       "      <td>NaN</td>\n",
       "      <td>NaN</td>\n",
       "      <td>NaN</td>\n",
       "      <td>NaN</td>\n",
       "      <td>NaN</td>\n",
       "      <td>NaN</td>\n",
       "      <td>NaN</td>\n",
       "      <td>...</td>\n",
       "      <td>NaN</td>\n",
       "      <td>NaN</td>\n",
       "      <td>NaN</td>\n",
       "      <td>NaN</td>\n",
       "      <td>NaN</td>\n",
       "      <td>NaN</td>\n",
       "      <td>NaN</td>\n",
       "      <td>NaN</td>\n",
       "      <td>NaN</td>\n",
       "      <td>0.617479</td>\n",
       "    </tr>\n",
       "  </tbody>\n",
       "</table>\n",
       "<p>1 rows × 198 columns</p>\n",
       "</div>"
      ],
      "text/plain": [
       "  Administrative Unit       GID  Mean-2012Apr Mean-2012May Mean-2012June  \\\n",
       "0           Hai Phong  VNM.23_1      1.720032          NaN           NaN   \n",
       "\n",
       "  Mean-2012Jul Mean-2012Aug Mean-2012Sept Mean-2012Oct Mean-2012Nov  ...  \\\n",
       "0          NaN          NaN           NaN          NaN          NaN  ...   \n",
       "\n",
       "  Median-2019Sept Median-2019Oct Median-2019Nov Median-2019Dec Median-2020Jan  \\\n",
       "0             NaN            NaN            NaN            NaN            NaN   \n",
       "\n",
       "  Median-2020Feb Median-2020Mar Median-2020Apr Median-2020May Median-2012Apr  \n",
       "0            NaN            NaN            NaN            NaN       0.617479  \n",
       "\n",
       "[1 rows x 198 columns]"
      ]
     },
     "execution_count": 21,
     "metadata": {},
     "output_type": "execute_result"
    }
   ],
   "source": [
    "df.head(1)"
   ]
  },
  {
   "cell_type": "code",
   "execution_count": null,
   "metadata": {},
   "outputs": [],
   "source": []
  }
 ],
 "metadata": {
  "kernelspec": {
   "display_name": "Python 3",
   "language": "python",
   "name": "python3"
  },
  "language_info": {
   "codemirror_mode": {
    "name": "ipython",
    "version": 3
   },
   "file_extension": ".py",
   "mimetype": "text/x-python",
   "name": "python",
   "nbconvert_exporter": "python",
   "pygments_lexer": "ipython3",
   "version": "3.8.5"
  }
 },
 "nbformat": 4,
 "nbformat_minor": 4
}
